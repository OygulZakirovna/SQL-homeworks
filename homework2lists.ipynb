{
 "cells": [
  {
   "cell_type": "code",
   "execution_count": 4,
   "metadata": {},
   "outputs": [],
   "source": [
    "#Tuples\n",
    "# 1. \n",
    "cardinal_numbers = (\"first\", \"second\", \"third\")"
   ]
  },
  {
   "cell_type": "code",
   "execution_count": 5,
   "metadata": {},
   "outputs": [
    {
     "name": "stdout",
     "output_type": "stream",
     "text": [
      "second\n"
     ]
    }
   ],
   "source": [
    "# 2. \n",
    "print(cardinal_numbers[1])"
   ]
  },
  {
   "cell_type": "code",
   "execution_count": 6,
   "metadata": {},
   "outputs": [
    {
     "name": "stdout",
     "output_type": "stream",
     "text": [
      "first\n",
      "second\n",
      "third\n"
     ]
    }
   ],
   "source": [
    "# 3.\n",
    "position1, position2, position3 = cardinal_numbers\n",
    "print(position1)\n",
    "print(position2)\n",
    "print(position3)"
   ]
  },
  {
   "cell_type": "code",
   "execution_count": 8,
   "metadata": {},
   "outputs": [
    {
     "name": "stdout",
     "output_type": "stream",
     "text": [
      "('O', 'y', 'g', 'u', 'l')\n"
     ]
    }
   ],
   "source": [
    "# 4\n",
    "my_name = tuple(\"Oygul\")\n",
    "print(my_name)"
   ]
  },
  {
   "cell_type": "code",
   "execution_count": 10,
   "metadata": {},
   "outputs": [
    {
     "name": "stdout",
     "output_type": "stream",
     "text": [
      "False\n",
      "True\n"
     ]
    }
   ],
   "source": [
    "# 5\n",
    "\n",
    "print(\"x\" in my_name)\n",
    "print(\"g\" in my_name)"
   ]
  },
  {
   "cell_type": "code",
   "execution_count": 11,
   "metadata": {},
   "outputs": [
    {
     "name": "stdout",
     "output_type": "stream",
     "text": [
      "('y', 'g', 'u', 'l')\n"
     ]
    }
   ],
   "source": [
    "#6\n",
    "new_name=my_name[1::]\n",
    "print(new_name)"
   ]
  },
  {
   "cell_type": "code",
   "execution_count": 20,
   "metadata": {},
   "outputs": [
    {
     "name": "stdout",
     "output_type": "stream",
     "text": [
      "['rise', 'beans']\n",
      "pizza\n",
      "['rise', 'beans', 'broccoli', 'bread', 'pizza']\n"
     ]
    }
   ],
   "source": [
    "#Homework 2\n",
    "\n",
    "food = [\"rise\", \"beans\"]\n",
    "food.append(\"broccoli\")\n",
    "food.extend([\"bread\" , \"pizza\"])\n",
    "print(food[:2]) \n",
    "print(food[-1])  \n",
    "print(food)"
   ]
  },
  {
   "cell_type": "code",
   "execution_count": 26,
   "metadata": {},
   "outputs": [
    {
     "name": "stdout",
     "output_type": "stream",
     "text": [
      "3\n",
      "[4, 5, 12]\n"
     ]
    }
   ],
   "source": [
    "breakfast = [\"eggs\", \"fruit\", \"orange\", \"juice\"]\n",
    "breakfast = \"eggs, fruit, orange juice\".split(\", \")\n",
    "print(len(breakfast))\n",
    "lengths = [len(item) for item in breakfast]\n",
    "\n",
    "print(lengths) "
   ]
  },
  {
   "cell_type": "code",
   "execution_count": 28,
   "metadata": {},
   "outputs": [
    {
     "name": "stdout",
     "output_type": "stream",
     "text": [
      "1\n"
     ]
    }
   ],
   "source": [
    "#Homework3\n",
    "#1\n",
    "numbers = [1, 3, 5, 7, 9, 10]\n",
    "smallest_number = min(numbers)\n",
    "print(smallest_number)"
   ]
  },
  {
   "cell_type": "code",
   "execution_count": 34,
   "metadata": {},
   "outputs": [
    {
     "name": "stdout",
     "output_type": "stream",
     "text": [
      "['Green', 'White', 'Black']\n"
     ]
    }
   ],
   "source": [
    "#2\n",
    "colors = ['Red', 'Green', 'White', 'Black', 'Pink', 'Yellow']  #0,4,5\n",
    "colors.pop(5)\n",
    "colors.pop(4)\n",
    "colors.pop(0)\n",
    "print(colors)"
   ]
  },
  {
   "cell_type": "code",
   "execution_count": 36,
   "metadata": {},
   "outputs": [
    {
     "name": "stdout",
     "output_type": "stream",
     "text": [
      "[1, 2, 3]\n",
      "[8, 6, 7]\n"
     ]
    }
   ],
   "source": [
    "#3\n",
    "list1 = [1, 2, 3, 4, 5]\n",
    "list2 = [4, 5, 6, 7, 8]\n",
    "\n",
    "\n",
    "difference = list(set(list1) - set(list2))\n",
    "difference1 = list(set(list2) - set(list1))\n",
    "print(difference)\n",
    "print(difference1) "
   ]
  },
  {
   "cell_type": "code",
   "execution_count": 43,
   "metadata": {},
   "outputs": [
    {
     "name": "stdout",
     "output_type": "stream",
     "text": [
      "1\n"
     ]
    }
   ],
   "source": [
    "#4\n",
    "colors = ['Red', 'Green', 'White', 'Black', 'Pink', 'Yellow'] \n",
    "\n",
    "index = colors.index(\"Green\")\n",
    "print(index)"
   ]
  },
  {
   "cell_type": "code",
   "execution_count": 44,
   "metadata": {},
   "outputs": [
    {
     "name": "stdout",
     "output_type": "stream",
     "text": [
      "[4, 5, 6, [1, 2, 3]]\n"
     ]
    }
   ],
   "source": [
    "#5\n",
    "list1 = [1, 2, 3]\n",
    "list2 = [4, 5, 6]\n",
    "\n",
    "\n",
    "list2.append(list1)\n",
    "\n",
    "print(list2)  "
   ]
  },
  {
   "cell_type": "code",
   "execution_count": 45,
   "metadata": {},
   "outputs": [
    {
     "name": "stdout",
     "output_type": "stream",
     "text": [
      "5\n"
     ]
    }
   ],
   "source": [
    "#6\n",
    "numbers = [10, 5, 20, 15, 2, 8]\n",
    "\n",
    "sorted_numbers = sorted(numbers)\n",
    "second_smallest = sorted_numbers[1]\n",
    "\n",
    "\n",
    "print(second_smallest) "
   ]
  },
  {
   "cell_type": "code",
   "execution_count": null,
   "metadata": {},
   "outputs": [],
   "source": [
    "#7\n",
    "list1 = [1, 2, 3, 4, 5]\n",
    "list2 = [4, 5, 6, 7, 8]\n",
    "\n",
    "common_items = list(set(list1) & set(list2))\n",
    "\n",
    "print(common_items)  "
   ]
  },
  {
   "cell_type": "code",
   "execution_count": 46,
   "metadata": {},
   "outputs": [
    {
     "name": "stdout",
     "output_type": "stream",
     "text": [
      "1 2 3 4\n"
     ]
    }
   ],
   "source": [
    "#8\n",
    "my_list = [1, 2, 3, 4]\n",
    "\n",
    "\n",
    "a, b, c, d = my_list\n",
    "\n",
    "\n",
    "print(a, b, c, d) "
   ]
  },
  {
   "cell_type": "code",
   "execution_count": 47,
   "metadata": {},
   "outputs": [
    {
     "name": "stdout",
     "output_type": "stream",
     "text": [
      "[1, 3, 5, 7, 9]\n"
     ]
    }
   ],
   "source": [
    "#9\n",
    "numbers = [1, 2, 3, 4, 5, 6, 7, 8, 9]\n",
    "\n",
    "\n",
    "odd_numbers = [num for num in numbers if num % 2 != 0]\n",
    "\n",
    "\n",
    "print(odd_numbers)  "
   ]
  },
  {
   "cell_type": "code",
   "execution_count": 48,
   "metadata": {},
   "outputs": [
    {
     "name": "stdout",
     "output_type": "stream",
     "text": [
      "[1, 3, 5, 7, 9, 2, 4, 6, 8]\n"
     ]
    }
   ],
   "source": [
    "#10\n",
    "list1 = [1, 3, 5, 7, 9, 10]\n",
    "list2 = [2, 4, 6, 8]\n",
    "\n",
    "\n",
    "list1[-1:] = list2\n",
    "\n",
    "\n",
    "print(list1)  "
   ]
  }
 ],
 "metadata": {
  "kernelspec": {
   "display_name": "Python 3",
   "language": "python",
   "name": "python3"
  },
  "language_info": {
   "codemirror_mode": {
    "name": "ipython",
    "version": 3
   },
   "file_extension": ".py",
   "mimetype": "text/x-python",
   "name": "python",
   "nbconvert_exporter": "python",
   "pygments_lexer": "ipython3",
   "version": "3.12.8"
  }
 },
 "nbformat": 4,
 "nbformat_minor": 2
}
